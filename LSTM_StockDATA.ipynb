{
  "nbformat": 4,
  "nbformat_minor": 0,
  "metadata": {
    "colab": {
      "name": "LSTM StockDATA.ipynb",
      "provenance": [],
      "authorship_tag": "ABX9TyPhaT9T2G56C25Iv6N3CGJn"
    },
    "kernelspec": {
      "name": "python3",
      "display_name": "Python 3"
    },
    "language_info": {
      "name": "python"
    }
  },
  "cells": [
    {
      "cell_type": "code",
      "metadata": {
        "id": "nIOpvme7q8ng"
      },
      "source": [
        "# Keras and Tensorflow >2.0\n",
        "## Data Collection\n",
        "import pandas_datareader as pdr"
      ],
      "execution_count": null,
      "outputs": []
    },
    {
      "cell_type": "code",
      "metadata": {
        "id": "uI7gXy6VrHLv"
      },
      "source": [
        "df = pdr.get_data_tiingo('AAPL', api_key = '2d5b242acfd694708c0e1b462f0183cd3ace8b4e')"
      ],
      "execution_count": null,
      "outputs": []
    },
    {
      "cell_type": "code",
      "metadata": {
        "id": "bgvZ1fhJr-eW"
      },
      "source": [
        "df.to_csv('AAPL.csv')"
      ],
      "execution_count": null,
      "outputs": []
    },
    {
      "cell_type": "code",
      "metadata": {
        "id": "-xzsrTMqrokp"
      },
      "source": [
        "import pandas as pd\n",
        "df = pd.read_csv('AAPL.csv')"
      ],
      "execution_count": null,
      "outputs": []
    },
    {
      "cell_type": "code",
      "metadata": {
        "id": "154wxooTsKuI"
      },
      "source": [
        "df.head()"
      ],
      "execution_count": null,
      "outputs": []
    },
    {
      "cell_type": "code",
      "metadata": {
        "id": "xVjPFHMRshhq"
      },
      "source": [
        "df.tail()"
      ],
      "execution_count": null,
      "outputs": []
    },
    {
      "cell_type": "code",
      "metadata": {
        "id": "Ga0l1K_rsmxk"
      },
      "source": [
        "df1 = df.reset_index()['close']"
      ],
      "execution_count": null,
      "outputs": []
    },
    {
      "cell_type": "code",
      "metadata": {
        "id": "ytsa3LHFs6WJ"
      },
      "source": [
        "df1[1228:]"
      ],
      "execution_count": null,
      "outputs": []
    },
    {
      "cell_type": "code",
      "metadata": {
        "colab": {
          "base_uri": "https://localhost:8080/"
        },
        "id": "YKstWxTStAce",
        "outputId": "847e4f50-f95a-4ca7-a8eb-4972e3af84af"
      },
      "source": [
        "df1.shape"
      ],
      "execution_count": null,
      "outputs": [
        {
          "output_type": "execute_result",
          "data": {
            "text/plain": [
              "(1257,)"
            ]
          },
          "metadata": {},
          "execution_count": 20
        }
      ]
    },
    {
      "cell_type": "code",
      "metadata": {
        "id": "WuY4FzbxtrJA"
      },
      "source": [
        "import matplotlib.pyplot as plt\n",
        "plt.plot(df1)"
      ],
      "execution_count": null,
      "outputs": []
    },
    {
      "cell_type": "code",
      "metadata": {
        "id": "J2VM4l6EvAL_"
      },
      "source": [
        "#LSTM is Scale Sensitive. So Minmax Sclar to be applied"
      ],
      "execution_count": null,
      "outputs": []
    },
    {
      "cell_type": "code",
      "metadata": {
        "id": "80eNp0-jvKyJ"
      },
      "source": [
        "import numpy as np"
      ],
      "execution_count": null,
      "outputs": []
    },
    {
      "cell_type": "code",
      "metadata": {
        "id": "__Tm3OqpvWnA"
      },
      "source": [
        "from sklearn.preprocessing import MinMaxScaler\n",
        "scaler=MinMaxScaler(feature_range=(0,1))\n",
        "df1=scaler.fit_transform(np.array(df1).reshape(-1,1))"
      ],
      "execution_count": null,
      "outputs": []
    },
    {
      "cell_type": "code",
      "metadata": {
        "colab": {
          "base_uri": "https://localhost:8080/"
        },
        "id": "h3R42LDFv915",
        "outputId": "3f01928b-1054-4f2a-d5ec-81478b4326ef"
      },
      "source": [
        "df1.shape"
      ],
      "execution_count": null,
      "outputs": [
        {
          "output_type": "execute_result",
          "data": {
            "text/plain": [
              "(1257, 1)"
            ]
          },
          "metadata": {},
          "execution_count": 25
        }
      ]
    },
    {
      "cell_type": "code",
      "metadata": {
        "id": "kcWUPBfLwUfY"
      },
      "source": [
        "df1"
      ],
      "execution_count": null,
      "outputs": []
    },
    {
      "cell_type": "code",
      "metadata": {
        "id": "uCNT7wOFwXEF"
      },
      "source": [
        "##Splitting data set into test and train\n",
        "training_size=int(len(df1)*0.65)\n",
        "test_size=len(df1)-training_size\n",
        "train_data,test_data=df1[0:training_size,:],df1[training_size:len(df1),:1]"
      ],
      "execution_count": null,
      "outputs": []
    },
    {
      "cell_type": "code",
      "metadata": {
        "colab": {
          "base_uri": "https://localhost:8080/"
        },
        "id": "cEh9eQahzTm4",
        "outputId": "48bcfab3-7cb1-4c2b-dbc7-f5709637089a"
      },
      "source": [
        "training_size,test_size"
      ],
      "execution_count": null,
      "outputs": [
        {
          "output_type": "execute_result",
          "data": {
            "text/plain": [
              "(817, 440)"
            ]
          },
          "metadata": {},
          "execution_count": 28
        }
      ]
    },
    {
      "cell_type": "code",
      "metadata": {
        "id": "XzHnkIk-x6Xq"
      },
      "source": [
        "import numpy\n",
        "#converting array into dataset matrix\n",
        "def create_dataset(dataset, time_step=1):\n",
        "  dataX, dataY =[],[]\n",
        "  for i in range(len(dataset)-time_step-1):\n",
        "    a = dataset[i:(i+time_step), 0]\n",
        "    dataX.append(a)\n",
        "    dataY.append(dataset[i + time_step, 0])\n",
        "  return numpy.array(dataX), numpy.array(dataY)"
      ],
      "execution_count": null,
      "outputs": []
    },
    {
      "cell_type": "code",
      "metadata": {
        "id": "VlmOanWt0MmW"
      },
      "source": [
        "# reshape into X = t, t+1, t+2,t+3 and Y =t+4\n",
        "time_step = 100\n",
        "x_train , y_train = create_dataset(train_data, time_step)\n",
        "x_test , y_test = create_dataset(test_data, time_step)"
      ],
      "execution_count": null,
      "outputs": []
    },
    {
      "cell_type": "code",
      "metadata": {
        "id": "FKy2FB6x1osj"
      },
      "source": [
        "print(x_train)"
      ],
      "execution_count": null,
      "outputs": []
    },
    {
      "cell_type": "code",
      "metadata": {
        "colab": {
          "base_uri": "https://localhost:8080/"
        },
        "id": "CNDiTS7-2fWz",
        "outputId": "e98dd9cc-6243-4010-9ffd-75a1e4596134"
      },
      "source": [
        "print(x_train.shape, y_train.shape)"
      ],
      "execution_count": null,
      "outputs": [
        {
          "output_type": "stream",
          "name": "stdout",
          "text": [
            "(716, 100) (716,)\n"
          ]
        }
      ]
    },
    {
      "cell_type": "code",
      "metadata": {
        "colab": {
          "base_uri": "https://localhost:8080/"
        },
        "id": "bzhBBLIW2mj2",
        "outputId": "8d6ac5fa-3224-4340-b373-0d4ed4b5b9ee"
      },
      "source": [
        "print(x_test.shape,y_test.shape)"
      ],
      "execution_count": null,
      "outputs": [
        {
          "output_type": "stream",
          "name": "stdout",
          "text": [
            "(339, 100) (339,)\n"
          ]
        }
      ]
    },
    {
      "cell_type": "code",
      "metadata": {
        "id": "7lLnbHxh2sdp"
      },
      "source": [
        "#Reshaping input into 3 dimension\n",
        "x_train = x_train.reshape(x_train.shape[0],x_train.shape[1], 1)\n",
        "x_test = x_test.reshape(x_test.shape[0],x_test.shape[1], 1)"
      ],
      "execution_count": null,
      "outputs": []
    },
    {
      "cell_type": "code",
      "metadata": {
        "id": "xQI66-0r3xET"
      },
      "source": [
        "##Create the stack LSTM model\n",
        "from tensorflow.keras.models import Sequential\n",
        "from tensorflow.keras.layers import Dense\n",
        "from tensorflow.keras.layers import LSTM"
      ],
      "execution_count": null,
      "outputs": []
    },
    {
      "cell_type": "code",
      "metadata": {
        "id": "JJB4nd7D4V4d"
      },
      "source": [
        "model = Sequential()\n",
        "model.add(LSTM(50,return_sequences=True,input_shape=(100,1)))\n",
        "model.add(LSTM(50,return_sequences=True))\n",
        "model.add(LSTM(50))\n",
        "model.add(Dense(1))\n",
        "model.compile(loss='mean_squared_error',optimizer='adam')"
      ],
      "execution_count": null,
      "outputs": []
    },
    {
      "cell_type": "code",
      "metadata": {
        "colab": {
          "base_uri": "https://localhost:8080/"
        },
        "id": "souWooUj5i_k",
        "outputId": "c9074fd7-7f8d-438e-b0cd-5a11aa7b72bf"
      },
      "source": [
        "model.summary()"
      ],
      "execution_count": null,
      "outputs": [
        {
          "output_type": "stream",
          "name": "stdout",
          "text": [
            "Model: \"sequential_2\"\n",
            "_________________________________________________________________\n",
            "Layer (type)                 Output Shape              Param #   \n",
            "=================================================================\n",
            "lstm (LSTM)                  (None, 100, 50)           10400     \n",
            "_________________________________________________________________\n",
            "lstm_1 (LSTM)                (None, 100, 50)           20200     \n",
            "_________________________________________________________________\n",
            "lstm_2 (LSTM)                (None, 50)                20200     \n",
            "_________________________________________________________________\n",
            "dense (Dense)                (None, 1)                 51        \n",
            "=================================================================\n",
            "Total params: 50,851\n",
            "Trainable params: 50,851\n",
            "Non-trainable params: 0\n",
            "_________________________________________________________________\n"
          ]
        }
      ]
    },
    {
      "cell_type": "code",
      "metadata": {
        "colab": {
          "base_uri": "https://localhost:8080/"
        },
        "id": "iMztLvg_5-gv",
        "outputId": "63be1001-bf94-4b79-b5f9-54269bac37f3"
      },
      "source": [
        "model.fit(x_train,y_train,validation_data=(x_test,y_test),epochs=100,batch_size=64,verbose=1)"
      ],
      "execution_count": null,
      "outputs": [
        {
          "output_type": "stream",
          "name": "stdout",
          "text": [
            "Epoch 1/100\n",
            "12/12 [==============================] - 8s 295ms/step - loss: 0.0081 - val_loss: 0.0328\n",
            "Epoch 2/100\n",
            "12/12 [==============================] - 2s 195ms/step - loss: 0.0021 - val_loss: 0.0236\n",
            "Epoch 3/100\n",
            "12/12 [==============================] - 2s 198ms/step - loss: 0.0011 - val_loss: 0.0217\n",
            "Epoch 4/100\n",
            "12/12 [==============================] - 2s 196ms/step - loss: 7.0599e-04 - val_loss: 0.0218\n",
            "Epoch 5/100\n",
            "12/12 [==============================] - 2s 198ms/step - loss: 5.7561e-04 - val_loss: 0.0234\n",
            "Epoch 6/100\n",
            "12/12 [==============================] - 2s 195ms/step - loss: 5.2131e-04 - val_loss: 0.0217\n",
            "Epoch 7/100\n",
            "12/12 [==============================] - 2s 196ms/step - loss: 4.5891e-04 - val_loss: 0.0206\n",
            "Epoch 8/100\n",
            "12/12 [==============================] - 2s 196ms/step - loss: 4.4519e-04 - val_loss: 0.0202\n",
            "Epoch 9/100\n",
            "12/12 [==============================] - 2s 198ms/step - loss: 4.3029e-04 - val_loss: 0.0203\n",
            "Epoch 10/100\n",
            "12/12 [==============================] - 2s 195ms/step - loss: 4.1035e-04 - val_loss: 0.0196\n",
            "Epoch 11/100\n",
            "12/12 [==============================] - 2s 192ms/step - loss: 3.8919e-04 - val_loss: 0.0183\n",
            "Epoch 12/100\n",
            "12/12 [==============================] - 2s 192ms/step - loss: 3.9743e-04 - val_loss: 0.0175\n",
            "Epoch 13/100\n",
            "12/12 [==============================] - 2s 193ms/step - loss: 4.0517e-04 - val_loss: 0.0177\n",
            "Epoch 14/100\n",
            "12/12 [==============================] - 2s 194ms/step - loss: 5.2618e-04 - val_loss: 0.0160\n",
            "Epoch 15/100\n",
            "12/12 [==============================] - 2s 193ms/step - loss: 4.0250e-04 - val_loss: 0.0182\n",
            "Epoch 16/100\n",
            "12/12 [==============================] - 2s 192ms/step - loss: 3.4277e-04 - val_loss: 0.0171\n",
            "Epoch 17/100\n",
            "12/12 [==============================] - 2s 193ms/step - loss: 3.1068e-04 - val_loss: 0.0157\n",
            "Epoch 18/100\n",
            "12/12 [==============================] - 2s 194ms/step - loss: 3.0062e-04 - val_loss: 0.0167\n",
            "Epoch 19/100\n",
            "12/12 [==============================] - 2s 196ms/step - loss: 2.9463e-04 - val_loss: 0.0152\n",
            "Epoch 20/100\n",
            "12/12 [==============================] - 2s 194ms/step - loss: 2.9095e-04 - val_loss: 0.0142\n",
            "Epoch 21/100\n",
            "12/12 [==============================] - 2s 195ms/step - loss: 2.6960e-04 - val_loss: 0.0153\n",
            "Epoch 22/100\n",
            "12/12 [==============================] - 2s 195ms/step - loss: 2.7331e-04 - val_loss: 0.0151\n",
            "Epoch 23/100\n",
            "12/12 [==============================] - 2s 191ms/step - loss: 3.0002e-04 - val_loss: 0.0140\n",
            "Epoch 24/100\n",
            "12/12 [==============================] - 2s 191ms/step - loss: 2.7746e-04 - val_loss: 0.0146\n",
            "Epoch 25/100\n",
            "12/12 [==============================] - 2s 198ms/step - loss: 2.7043e-04 - val_loss: 0.0144\n",
            "Epoch 26/100\n",
            "12/12 [==============================] - 2s 193ms/step - loss: 2.5590e-04 - val_loss: 0.0133\n",
            "Epoch 27/100\n",
            "12/12 [==============================] - 2s 197ms/step - loss: 2.8817e-04 - val_loss: 0.0146\n",
            "Epoch 28/100\n",
            "12/12 [==============================] - 2s 192ms/step - loss: 3.1207e-04 - val_loss: 0.0150\n",
            "Epoch 29/100\n",
            "12/12 [==============================] - 2s 199ms/step - loss: 2.7183e-04 - val_loss: 0.0130\n",
            "Epoch 30/100\n",
            "12/12 [==============================] - 2s 195ms/step - loss: 2.5571e-04 - val_loss: 0.0141\n",
            "Epoch 31/100\n",
            "12/12 [==============================] - 2s 196ms/step - loss: 2.4376e-04 - val_loss: 0.0138\n",
            "Epoch 32/100\n",
            "12/12 [==============================] - 2s 192ms/step - loss: 2.4087e-04 - val_loss: 0.0133\n",
            "Epoch 33/100\n",
            "12/12 [==============================] - 2s 195ms/step - loss: 2.3430e-04 - val_loss: 0.0153\n",
            "Epoch 34/100\n",
            "12/12 [==============================] - 2s 197ms/step - loss: 2.6972e-04 - val_loss: 0.0130\n",
            "Epoch 35/100\n",
            "12/12 [==============================] - 2s 194ms/step - loss: 2.3646e-04 - val_loss: 0.0134\n",
            "Epoch 36/100\n",
            "12/12 [==============================] - 2s 193ms/step - loss: 2.3256e-04 - val_loss: 0.0146\n",
            "Epoch 37/100\n",
            "12/12 [==============================] - 2s 191ms/step - loss: 2.2916e-04 - val_loss: 0.0131\n",
            "Epoch 38/100\n",
            "12/12 [==============================] - 2s 194ms/step - loss: 2.4680e-04 - val_loss: 0.0144\n",
            "Epoch 39/100\n",
            "12/12 [==============================] - 2s 192ms/step - loss: 2.2686e-04 - val_loss: 0.0135\n",
            "Epoch 40/100\n",
            "12/12 [==============================] - 2s 193ms/step - loss: 2.1955e-04 - val_loss: 0.0147\n",
            "Epoch 41/100\n",
            "12/12 [==============================] - 2s 191ms/step - loss: 2.2419e-04 - val_loss: 0.0136\n",
            "Epoch 42/100\n",
            "12/12 [==============================] - 2s 193ms/step - loss: 2.1204e-04 - val_loss: 0.0123\n",
            "Epoch 43/100\n",
            "12/12 [==============================] - 2s 192ms/step - loss: 2.6278e-04 - val_loss: 0.0159\n",
            "Epoch 44/100\n",
            "12/12 [==============================] - 2s 192ms/step - loss: 2.3459e-04 - val_loss: 0.0119\n",
            "Epoch 45/100\n",
            "12/12 [==============================] - 2s 196ms/step - loss: 2.0376e-04 - val_loss: 0.0131\n",
            "Epoch 46/100\n",
            "12/12 [==============================] - 2s 196ms/step - loss: 1.9886e-04 - val_loss: 0.0138\n",
            "Epoch 47/100\n",
            "12/12 [==============================] - 2s 195ms/step - loss: 1.9498e-04 - val_loss: 0.0144\n",
            "Epoch 48/100\n",
            "12/12 [==============================] - 2s 195ms/step - loss: 2.0162e-04 - val_loss: 0.0152\n",
            "Epoch 49/100\n",
            "12/12 [==============================] - 2s 197ms/step - loss: 2.3121e-04 - val_loss: 0.0119\n",
            "Epoch 50/100\n",
            "12/12 [==============================] - 2s 197ms/step - loss: 2.0882e-04 - val_loss: 0.0135\n",
            "Epoch 51/100\n",
            "12/12 [==============================] - 2s 195ms/step - loss: 1.9206e-04 - val_loss: 0.0139\n",
            "Epoch 52/100\n",
            "12/12 [==============================] - 2s 194ms/step - loss: 1.9239e-04 - val_loss: 0.0132\n",
            "Epoch 53/100\n",
            "12/12 [==============================] - 2s 191ms/step - loss: 1.9261e-04 - val_loss: 0.0125\n",
            "Epoch 54/100\n",
            "12/12 [==============================] - 2s 193ms/step - loss: 2.0217e-04 - val_loss: 0.0127\n",
            "Epoch 55/100\n",
            "12/12 [==============================] - 2s 192ms/step - loss: 1.8556e-04 - val_loss: 0.0127\n",
            "Epoch 56/100\n",
            "12/12 [==============================] - 2s 192ms/step - loss: 1.8163e-04 - val_loss: 0.0131\n",
            "Epoch 57/100\n",
            "12/12 [==============================] - 2s 193ms/step - loss: 1.8626e-04 - val_loss: 0.0138\n",
            "Epoch 58/100\n",
            "12/12 [==============================] - 2s 197ms/step - loss: 1.7509e-04 - val_loss: 0.0145\n",
            "Epoch 59/100\n",
            "12/12 [==============================] - 2s 193ms/step - loss: 1.8682e-04 - val_loss: 0.0114\n",
            "Epoch 60/100\n",
            "12/12 [==============================] - 2s 195ms/step - loss: 1.7411e-04 - val_loss: 0.0120\n",
            "Epoch 61/100\n",
            "12/12 [==============================] - 2s 202ms/step - loss: 2.0093e-04 - val_loss: 0.0134\n",
            "Epoch 62/100\n",
            "12/12 [==============================] - 2s 195ms/step - loss: 1.7354e-04 - val_loss: 0.0124\n",
            "Epoch 63/100\n",
            "12/12 [==============================] - 2s 193ms/step - loss: 1.9003e-04 - val_loss: 0.0148\n",
            "Epoch 64/100\n",
            "12/12 [==============================] - 2s 195ms/step - loss: 2.0353e-04 - val_loss: 0.0114\n",
            "Epoch 65/100\n",
            "12/12 [==============================] - 2s 194ms/step - loss: 1.6721e-04 - val_loss: 0.0116\n",
            "Epoch 66/100\n",
            "12/12 [==============================] - 2s 200ms/step - loss: 1.6949e-04 - val_loss: 0.0117\n",
            "Epoch 67/100\n",
            "12/12 [==============================] - 2s 195ms/step - loss: 1.6279e-04 - val_loss: 0.0109\n",
            "Epoch 68/100\n",
            "12/12 [==============================] - 2s 191ms/step - loss: 1.6509e-04 - val_loss: 0.0120\n",
            "Epoch 69/100\n",
            "12/12 [==============================] - 2s 192ms/step - loss: 1.7540e-04 - val_loss: 0.0124\n",
            "Epoch 70/100\n",
            "12/12 [==============================] - 2s 192ms/step - loss: 1.7022e-04 - val_loss: 0.0104\n",
            "Epoch 71/100\n",
            "12/12 [==============================] - 2s 193ms/step - loss: 1.5964e-04 - val_loss: 0.0124\n",
            "Epoch 72/100\n",
            "12/12 [==============================] - 2s 193ms/step - loss: 1.5485e-04 - val_loss: 0.0106\n",
            "Epoch 73/100\n",
            "12/12 [==============================] - 2s 194ms/step - loss: 1.5688e-04 - val_loss: 0.0115\n",
            "Epoch 74/100\n",
            "12/12 [==============================] - 2s 193ms/step - loss: 1.4782e-04 - val_loss: 0.0099\n",
            "Epoch 75/100\n",
            "12/12 [==============================] - 2s 194ms/step - loss: 1.5664e-04 - val_loss: 0.0111\n",
            "Epoch 76/100\n",
            "12/12 [==============================] - 2s 195ms/step - loss: 1.6873e-04 - val_loss: 0.0133\n",
            "Epoch 77/100\n",
            "12/12 [==============================] - 2s 196ms/step - loss: 1.8865e-04 - val_loss: 0.0094\n",
            "Epoch 78/100\n",
            "12/12 [==============================] - 2s 192ms/step - loss: 1.4712e-04 - val_loss: 0.0104\n",
            "Epoch 79/100\n",
            "12/12 [==============================] - 2s 192ms/step - loss: 1.4019e-04 - val_loss: 0.0119\n",
            "Epoch 80/100\n",
            "12/12 [==============================] - 2s 195ms/step - loss: 1.5153e-04 - val_loss: 0.0095\n",
            "Epoch 81/100\n",
            "12/12 [==============================] - 2s 194ms/step - loss: 1.3608e-04 - val_loss: 0.0106\n",
            "Epoch 82/100\n",
            "12/12 [==============================] - 2s 196ms/step - loss: 1.4276e-04 - val_loss: 0.0097\n",
            "Epoch 83/100\n",
            "12/12 [==============================] - 2s 191ms/step - loss: 1.3353e-04 - val_loss: 0.0098\n",
            "Epoch 84/100\n",
            "12/12 [==============================] - 2s 194ms/step - loss: 1.3346e-04 - val_loss: 0.0090\n",
            "Epoch 85/100\n",
            "12/12 [==============================] - 2s 193ms/step - loss: 1.3873e-04 - val_loss: 0.0092\n",
            "Epoch 86/100\n",
            "12/12 [==============================] - 2s 193ms/step - loss: 1.3055e-04 - val_loss: 0.0103\n",
            "Epoch 87/100\n",
            "12/12 [==============================] - 2s 195ms/step - loss: 1.4082e-04 - val_loss: 0.0082\n",
            "Epoch 88/100\n",
            "12/12 [==============================] - 2s 194ms/step - loss: 1.4686e-04 - val_loss: 0.0088\n",
            "Epoch 89/100\n",
            "12/12 [==============================] - 2s 193ms/step - loss: 1.2503e-04 - val_loss: 0.0092\n",
            "Epoch 90/100\n",
            "12/12 [==============================] - 2s 196ms/step - loss: 1.3298e-04 - val_loss: 0.0093\n",
            "Epoch 91/100\n",
            "12/12 [==============================] - 2s 193ms/step - loss: 1.2864e-04 - val_loss: 0.0076\n",
            "Epoch 92/100\n",
            "12/12 [==============================] - 2s 190ms/step - loss: 1.4021e-04 - val_loss: 0.0084\n",
            "Epoch 93/100\n",
            "12/12 [==============================] - 2s 195ms/step - loss: 1.4328e-04 - val_loss: 0.0067\n",
            "Epoch 94/100\n",
            "12/12 [==============================] - 2s 194ms/step - loss: 1.3207e-04 - val_loss: 0.0076\n",
            "Epoch 95/100\n",
            "12/12 [==============================] - 2s 197ms/step - loss: 1.2714e-04 - val_loss: 0.0076\n",
            "Epoch 96/100\n",
            "12/12 [==============================] - 2s 193ms/step - loss: 1.2955e-04 - val_loss: 0.0084\n",
            "Epoch 97/100\n",
            "12/12 [==============================] - 2s 195ms/step - loss: 1.5156e-04 - val_loss: 0.0080\n",
            "Epoch 98/100\n",
            "12/12 [==============================] - 2s 192ms/step - loss: 1.2142e-04 - val_loss: 0.0081\n",
            "Epoch 99/100\n",
            "12/12 [==============================] - 2s 195ms/step - loss: 1.2036e-04 - val_loss: 0.0074\n",
            "Epoch 100/100\n",
            "12/12 [==============================] - 2s 196ms/step - loss: 1.2245e-04 - val_loss: 0.0066\n"
          ]
        },
        {
          "output_type": "execute_result",
          "data": {
            "text/plain": [
              "<keras.callbacks.History at 0x7f4f7adaf3d0>"
            ]
          },
          "metadata": {},
          "execution_count": 43
        }
      ]
    },
    {
      "cell_type": "code",
      "metadata": {
        "id": "khFIV-gS9HnG"
      },
      "source": [
        "### Prediction and Performance matrics\n",
        "train_predict=model.predict(x_train)\n",
        "test_predict=model.predict(x_test)"
      ],
      "execution_count": null,
      "outputs": []
    },
    {
      "cell_type": "code",
      "metadata": {
        "id": "ffV5UHh07SfR"
      },
      "source": [
        "## Transform back\n",
        "train_predict=scaler.inverse_transform(train_predict)\n",
        "test_predict=scaler.inverse_transform(test_predict)"
      ],
      "execution_count": null,
      "outputs": []
    },
    {
      "cell_type": "code",
      "metadata": {
        "colab": {
          "base_uri": "https://localhost:8080/"
        },
        "id": "OTYzsVeh9QU6",
        "outputId": "be99535b-d4c0-42eb-cb74-81298647bd47"
      },
      "source": [
        "import math\n",
        "from sklearn.metrics import mean_squared_error\n",
        "math.sqrt(mean_squared_error(y_train,train_predict))"
      ],
      "execution_count": null,
      "outputs": [
        {
          "output_type": "execute_result",
          "data": {
            "text/plain": [
              "184.4527958870577"
            ]
          },
          "metadata": {},
          "execution_count": 47
        }
      ]
    },
    {
      "cell_type": "code",
      "metadata": {
        "colab": {
          "base_uri": "https://localhost:8080/"
        },
        "id": "yLeapzKF80nJ",
        "outputId": "11d2cc34-0f43-45b0-bd3a-168bf00ea471"
      },
      "source": [
        "### Test Data RMSE\n",
        "math.sqrt(mean_squared_error(y_test,test_predict))"
      ],
      "execution_count": null,
      "outputs": [
        {
          "output_type": "execute_result",
          "data": {
            "text/plain": [
              "221.44119946446588"
            ]
          },
          "metadata": {},
          "execution_count": 48
        }
      ]
    },
    {
      "cell_type": "code",
      "metadata": {
        "colab": {
          "base_uri": "https://localhost:8080/",
          "height": 265
        },
        "id": "JTBxFV2M-Hxt",
        "outputId": "825faf98-374b-40f7-f7ea-9fb15a632e8c"
      },
      "source": [
        "##Plotting\n",
        "# shift train predictions for plotting\n",
        "look_back=100\n",
        "trainPredictPlot = numpy.empty_like(df1)\n",
        "trainPredictPlot[:, :] = np.nan\n",
        "trainPredictPlot[look_back:len(train_predict)+look_back, :] = train_predict\n",
        "\n",
        "#Test pred for plotting\n",
        "testPredictPlot = numpy.empty_like(df1)\n",
        "testPredictPlot[:, :] = numpy.nan\n",
        "testPredictPlot[len(train_predict)+(look_back*2)+1:len(df1)-1, :] = test_predict\n",
        "#plot baseline and prediction\n",
        "plt.plot(scaler.inverse_transform(df1))\n",
        "plt.plot(trainPredictPlot)\n",
        "plt.plot(testPredictPlot)\n",
        "plt.show()"
      ],
      "execution_count": null,
      "outputs": [
        {
          "output_type": "display_data",
          "data": {
            "image/png": "[encoded data removed]",
            "text/plain": [
              "<Figure size 432x288 with 1 Axes>"
            ]
          },
          "metadata": {
            "needs_background": "light"
          }
        }
      ]
    },
    {
      "cell_type": "code",
      "metadata": {
        "colab": {
          "base_uri": "https://localhost:8080/"
        },
        "id": "YEAHidrBB7Fw",
        "outputId": "db067282-1734-44ff-ae8a-0616878ae707"
      },
      "source": [
        "len(test_data) ## Previous 100 days 440-340"
      ],
      "execution_count": null,
      "outputs": [
        {
          "output_type": "execute_result",
          "data": {
            "text/plain": [
              "440"
            ]
          },
          "metadata": {},
          "execution_count": 52
        }
      ]
    },
    {
      "cell_type": "code",
      "metadata": {
        "id": "d0zHLXJ1C6tI"
      },
      "source": [
        "x_input=test_data[340:].reshape(1,-1)"
      ],
      "execution_count": null,
      "outputs": []
    },
    {
      "cell_type": "code",
      "metadata": {
        "id": "C2CpHccADTD0"
      },
      "source": [
        "temp_input=list(x_input)\n",
        "temp_input=temp_input[0].tolist()"
      ],
      "execution_count": null,
      "outputs": []
    },
    {
      "cell_type": "code",
      "metadata": {
        "colab": {
          "base_uri": "https://localhost:8080/"
        },
        "id": "F-68ACgqFNoK",
        "outputId": "499ba32c-2461-4d17-f4f3-6fe8a079f4bd"
      },
      "source": [
        "temp_input"
      ],
      "execution_count": null,
      "outputs": [
        {
          "output_type": "execute_result",
          "data": {
            "text/plain": [
              "[0.06431390179329638,\n",
              " 0.06701133922773367,\n",
              " 0.05529746740596431,\n",
              " 0.05592187421949146,\n",
              " 0.06001798291622962,\n",
              " 0.061191867725660654,\n",
              " 0.05279984015185574,\n",
              " 0.050452070532993665,\n",
              " 0.04260952095509268,\n",
              " 0.04810430091413159,\n",
              " 0.054298416504320934,\n",
              " 0.05135121634447276,\n",
              " 0.04780458564363854,\n",
              " 0.04740496528298116,\n",
              " 0.05394874868874572,\n",
              " 0.04925320945102157,\n",
              " 0.05342424696538289,\n",
              " 0.05292472151456118,\n",
              " 0.05279984015185574,\n",
              " 0.048878565362905246,\n",
              " 0.047205155102652496,\n",
              " 0.04638093810879668,\n",
              " 0.04832908736700137,\n",
              " 0.04453269394075632,\n",
              " 0.0504021179879115,\n",
              " 0.05042709426045261,\n",
              " 0.0525251011539038,\n",
              " 0.05349917578300617,\n",
              " 0.05095159598381538,\n",
              " 0.05404865377891005,\n",
              " 0.06186622708426992,\n",
              " 0.05976822019081868,\n",
              " 0.061042010090414156,\n",
              " 0.0651381187871522,\n",
              " 0.06181627453918781,\n",
              " 0.06641190868674762,\n",
              " 0.07060792247365,\n",
              " 0.06990858684249962,\n",
              " 0.06918427493880813,\n",
              " 0.06843498676257559,\n",
              " 0.07260602427693691,\n",
              " 0.07647734652080529,\n",
              " 0.07805085169089365,\n",
              " 0.07882511613966736,\n",
              " 0.08554373345321947,\n",
              " 0.09068884559668317,\n",
              " 0.09705779509466006,\n",
              " 0.09373595084669567,\n",
              " 0.09840651381187876,\n",
              " 0.09688296118687245,\n",
              " 0.09973025625655624,\n",
              " 0.10849692791847748,\n",
              " 0.10682351765822468,\n",
              " 0.1016034766971377,\n",
              " 0.09176282531594981,\n",
              " 0.10100404615615166,\n",
              " 0.09913082571557025,\n",
              " 0.1026275038713223,\n",
              " 0.1070233278385534,\n",
              " 0.1080973075578201,\n",
              " 0.10255257505369902,\n",
              " 0.0980818222688446,\n",
              " 0.09973025625655624,\n",
              " 0.10027973425246023,\n",
              " 0.0994305409860633,\n",
              " 0.10402617513362311,\n",
              " 0.10300214795943852,\n",
              " 0.10327688695739051,\n",
              " 0.10097906988361055,\n",
              " 0.10085418852090516,\n",
              " 0.0996303511663919,\n",
              " 0.10027973425246023,\n",
              " 0.10784754483240916,\n",
              " 0.10837204655577198,\n",
              " 0.1134172536090714,\n",
              " 0.11109446026275038,\n",
              " 0.10152854787951449,\n",
              " 0.10237774114591136,\n",
              " 0.10609920575453319,\n",
              " 0.10989559918077829,\n",
              " 0.10967081272790852,\n",
              " 0.10652380238773168,\n",
              " 0.1044757480393626,\n",
              " 0.10712323292871773,\n",
              " 0.1184125081172886,\n",
              " 0.11519056895948854,\n",
              " 0.11688895549228234,\n",
              " 0.11973625056196613,\n",
              " 0.12135970827713677,\n",
              " 0.12732903741445628,\n",
              " 0.12338278635296474,\n",
              " 0.12078525400869172,\n",
              " 0.10804735501273788,\n",
              " 0.10949597882012091,\n",
              " 0.10592437184674564,\n",
              " 0.10819721264798443,\n",
              " 0.10759778210699833,\n",
              " 0.10077925970328189,\n",
              " 0.09298666267046307,\n",
              " 0.09421050002497627]"
            ]
          },
          "metadata": {},
          "execution_count": 57
        }
      ]
    },
    {
      "cell_type": "code",
      "metadata": {
        "colab": {
          "base_uri": "https://localhost:8080/"
        },
        "id": "HPuMO_cKEmaw",
        "outputId": "abf2c6d1-3eb8-4010-df9a-a4a1a68d1c20"
      },
      "source": [
        "from numpy import array\n",
        "lst_output=[]\n",
        "n_steps=100\n",
        "i=0\n",
        "while(i<30):\n",
        "\n",
        "  if(len(temp_input)>100):\n",
        "    x_input=np.array(temp_input[1:])\n",
        "    print(\"{} day input{}\".format(i,x_input))\n",
        "    x_input=x_input.reshape(1,-1)\n",
        "    x_input=x_input.reshape((1, n_steps, 1))\n",
        "    yhat = model.predict(x_input, verbose=0)\n",
        "    print(\"{} day output{}\".format(i,yhat))\n",
        "    temp_input.extend(yhat[0].tolist())\n",
        "    temp_input=temp_input[1:]\n",
        "    lst_output.extend(yhat.tolist())\n",
        "    i=i+1\n",
        "  else:\n",
        "    x_input = x_input.reshape((1, n_steps,1))\n",
        "    yhat = model.predict(x_input, verbose=0)\n",
        "    print(yhat[0])\n",
        "    temp_input.extend(yhat[0].tolist())\n",
        "    print(len(temp_input))\n",
        "    lst_output.extend(yhat.tolist())\n",
        "    i=i+1"
      ],
      "execution_count": null,
      "outputs": [
        {
          "output_type": "stream",
          "name": "stdout",
          "text": [
            "0 day input[0.06186623 0.05976822 0.06104201 0.06513812 0.06181627 0.06641191\n",
            " 0.07060792 0.06990859 0.06918427 0.06843499 0.07260602 0.07647735\n",
            " 0.07805085 0.07882512 0.08554373 0.09068885 0.0970578  0.09373595\n",
            " 0.09840651 0.09688296 0.09973026 0.10849693 0.10682352 0.10160348\n",
            " 0.09176283 0.10100405 0.09913083 0.1026275  0.10702333 0.10809731\n",
            " 0.10255258 0.09808182 0.09973026 0.10027973 0.09943054 0.10402618\n",
            " 0.10300215 0.10327689 0.10097907 0.10085419 0.09963035 0.10027973\n",
            " 0.10784754 0.10837205 0.11341725 0.11109446 0.10152855 0.10237774\n",
            " 0.10609921 0.1098956  0.10967081 0.1065238  0.10447575 0.10712323\n",
            " 0.11841251 0.11519057 0.11688896 0.11973625 0.12135971 0.12732904\n",
            " 0.12338279 0.12078525 0.10804736 0.10949598 0.10592437 0.10819721\n",
            " 0.10759778 0.10077926 0.09298666 0.0942105  0.10229192 0.10067022\n",
            " 0.10020726 0.10054256 0.10132255 0.10229904 0.10332508 0.10432296\n",
            " 0.10525441 0.10610154 0.10685702 0.10751966 0.10809265 0.10858282\n",
            " 0.10899983 0.10935517 0.10966135 0.10993101 0.11017608 0.11040723\n",
            " 0.11063356 0.11086236 0.11109902 0.1113473  0.11160914 0.11188517\n",
            " 0.11217501 0.11247734 0.11279019 0.1131113 ]\n",
            "0 day output[[0.11343829]]\n",
            "1 day input[0.05976822 0.06104201 0.06513812 0.06181627 0.06641191 0.07060792\n",
            " 0.06990859 0.06918427 0.06843499 0.07260602 0.07647735 0.07805085\n",
            " 0.07882512 0.08554373 0.09068885 0.0970578  0.09373595 0.09840651\n",
            " 0.09688296 0.09973026 0.10849693 0.10682352 0.10160348 0.09176283\n",
            " 0.10100405 0.09913083 0.1026275  0.10702333 0.10809731 0.10255258\n",
            " 0.09808182 0.09973026 0.10027973 0.09943054 0.10402618 0.10300215\n",
            " 0.10327689 0.10097907 0.10085419 0.09963035 0.10027973 0.10784754\n",
            " 0.10837205 0.11341725 0.11109446 0.10152855 0.10237774 0.10609921\n",
            " 0.1098956  0.10967081 0.1065238  0.10447575 0.10712323 0.11841251\n",
            " 0.11519057 0.11688896 0.11973625 0.12135971 0.12732904 0.12338279\n",
            " 0.12078525 0.10804736 0.10949598 0.10592437 0.10819721 0.10759778\n",
            " 0.10077926 0.09298666 0.0942105  0.10229192 0.10067022 0.10020726\n",
            " 0.10054256 0.10132255 0.10229904 0.10332508 0.10432296 0.10525441\n",
            " 0.10610154 0.10685702 0.10751966 0.10809265 0.10858282 0.10899983\n",
            " 0.10935517 0.10966135 0.10993101 0.11017608 0.11040723 0.11063356\n",
            " 0.11086236 0.11109902 0.1113473  0.11160914 0.11188517 0.11217501\n",
            " 0.11247734 0.11279019 0.1131113  0.11343829]\n",
            "1 day output[[0.11376872]]\n",
            "2 day input[0.06104201 0.06513812 0.06181627 0.06641191 0.07060792 0.06990859\n",
            " 0.06918427 0.06843499 0.07260602 0.07647735 0.07805085 0.07882512\n",
            " 0.08554373 0.09068885 0.0970578  0.09373595 0.09840651 0.09688296\n",
            " 0.09973026 0.10849693 0.10682352 0.10160348 0.09176283 0.10100405\n",
            " 0.09913083 0.1026275  0.10702333 0.10809731 0.10255258 0.09808182\n",
            " 0.09973026 0.10027973 0.09943054 0.10402618 0.10300215 0.10327689\n",
            " 0.10097907 0.10085419 0.09963035 0.10027973 0.10784754 0.10837205\n",
            " 0.11341725 0.11109446 0.10152855 0.10237774 0.10609921 0.1098956\n",
            " 0.10967081 0.1065238  0.10447575 0.10712323 0.11841251 0.11519057\n",
            " 0.11688896 0.11973625 0.12135971 0.12732904 0.12338279 0.12078525\n",
            " 0.10804736 0.10949598 0.10592437 0.10819721 0.10759778 0.10077926\n",
            " 0.09298666 0.0942105  0.10229192 0.10067022 0.10020726 0.10054256\n",
            " 0.10132255 0.10229904 0.10332508 0.10432296 0.10525441 0.10610154\n",
            " 0.10685702 0.10751966 0.10809265 0.10858282 0.10899983 0.10935517\n",
            " 0.10966135 0.10993101 0.11017608 0.11040723 0.11063356 0.11086236\n",
            " 0.11109902 0.1113473  0.11160914 0.11188517 0.11217501 0.11247734\n",
            " 0.11279019 0.1131113  0.11343829 0.11376872]\n",
            "2 day output[[0.11410031]]\n",
            "3 day input[0.06513812 0.06181627 0.06641191 0.07060792 0.06990859 0.06918427\n",
            " 0.06843499 0.07260602 0.07647735 0.07805085 0.07882512 0.08554373\n",
            " 0.09068885 0.0970578  0.09373595 0.09840651 0.09688296 0.09973026\n",
            " 0.10849693 0.10682352 0.10160348 0.09176283 0.10100405 0.09913083\n",
            " 0.1026275  0.10702333 0.10809731 0.10255258 0.09808182 0.09973026\n",
            " 0.10027973 0.09943054 0.10402618 0.10300215 0.10327689 0.10097907\n",
            " 0.10085419 0.09963035 0.10027973 0.10784754 0.10837205 0.11341725\n",
            " 0.11109446 0.10152855 0.10237774 0.10609921 0.1098956  0.10967081\n",
            " 0.1065238  0.10447575 0.10712323 0.11841251 0.11519057 0.11688896\n",
            " 0.11973625 0.12135971 0.12732904 0.12338279 0.12078525 0.10804736\n",
            " 0.10949598 0.10592437 0.10819721 0.10759778 0.10077926 0.09298666\n",
            " 0.0942105  0.10229192 0.10067022 0.10020726 0.10054256 0.10132255\n",
            " 0.10229904 0.10332508 0.10432296 0.10525441 0.10610154 0.10685702\n",
            " 0.10751966 0.10809265 0.10858282 0.10899983 0.10935517 0.10966135\n",
            " 0.10993101 0.11017608 0.11040723 0.11063356 0.11086236 0.11109902\n",
            " 0.1113473  0.11160914 0.11188517 0.11217501 0.11247734 0.11279019\n",
            " 0.1131113  0.11343829 0.11376872 0.11410031]\n",
            "3 day output[[0.1144311]]\n",
            "4 day input[0.06181627 0.06641191 0.07060792 0.06990859 0.06918427 0.06843499\n",
            " 0.07260602 0.07647735 0.07805085 0.07882512 0.08554373 0.09068885\n",
            " 0.0970578  0.09373595 0.09840651 0.09688296 0.09973026 0.10849693\n",
            " 0.10682352 0.10160348 0.09176283 0.10100405 0.09913083 0.1026275\n",
            " 0.10702333 0.10809731 0.10255258 0.09808182 0.09973026 0.10027973\n",
            " 0.09943054 0.10402618 0.10300215 0.10327689 0.10097907 0.10085419\n",
            " 0.09963035 0.10027973 0.10784754 0.10837205 0.11341725 0.11109446\n",
            " 0.10152855 0.10237774 0.10609921 0.1098956  0.10967081 0.1065238\n",
            " 0.10447575 0.10712323 0.11841251 0.11519057 0.11688896 0.11973625\n",
            " 0.12135971 0.12732904 0.12338279 0.12078525 0.10804736 0.10949598\n",
            " 0.10592437 0.10819721 0.10759778 0.10077926 0.09298666 0.0942105\n",
            " 0.10229192 0.10067022 0.10020726 0.10054256 0.10132255 0.10229904\n",
            " 0.10332508 0.10432296 0.10525441 0.10610154 0.10685702 0.10751966\n",
            " 0.10809265 0.10858282 0.10899983 0.10935517 0.10966135 0.10993101\n",
            " 0.11017608 0.11040723 0.11063356 0.11086236 0.11109902 0.1113473\n",
            " 0.11160914 0.11188517 0.11217501 0.11247734 0.11279019 0.1131113\n",
            " 0.11343829 0.11376872 0.11410031 0.1144311 ]\n",
            "4 day output[[0.11475938]]\n",
            "5 day input[0.06641191 0.07060792 0.06990859 0.06918427 0.06843499 0.07260602\n",
            " 0.07647735 0.07805085 0.07882512 0.08554373 0.09068885 0.0970578\n",
            " 0.09373595 0.09840651 0.09688296 0.09973026 0.10849693 0.10682352\n",
            " 0.10160348 0.09176283 0.10100405 0.09913083 0.1026275  0.10702333\n",
            " 0.10809731 0.10255258 0.09808182 0.09973026 0.10027973 0.09943054\n",
            " 0.10402618 0.10300215 0.10327689 0.10097907 0.10085419 0.09963035\n",
            " 0.10027973 0.10784754 0.10837205 0.11341725 0.11109446 0.10152855\n",
            " 0.10237774 0.10609921 0.1098956  0.10967081 0.1065238  0.10447575\n",
            " 0.10712323 0.11841251 0.11519057 0.11688896 0.11973625 0.12135971\n",
            " 0.12732904 0.12338279 0.12078525 0.10804736 0.10949598 0.10592437\n",
            " 0.10819721 0.10759778 0.10077926 0.09298666 0.0942105  0.10229192\n",
            " 0.10067022 0.10020726 0.10054256 0.10132255 0.10229904 0.10332508\n",
            " 0.10432296 0.10525441 0.10610154 0.10685702 0.10751966 0.10809265\n",
            " 0.10858282 0.10899983 0.10935517 0.10966135 0.10993101 0.11017608\n",
            " 0.11040723 0.11063356 0.11086236 0.11109902 0.1113473  0.11160914\n",
            " 0.11188517 0.11217501 0.11247734 0.11279019 0.1131113  0.11343829\n",
            " 0.11376872 0.11410031 0.1144311  0.11475938]\n",
            "5 day output[[0.11508378]]\n",
            "6 day input[0.07060792 0.06990859 0.06918427 0.06843499 0.07260602 0.07647735\n",
            " 0.07805085 0.07882512 0.08554373 0.09068885 0.0970578  0.09373595\n",
            " 0.09840651 0.09688296 0.09973026 0.10849693 0.10682352 0.10160348\n",
            " 0.09176283 0.10100405 0.09913083 0.1026275  0.10702333 0.10809731\n",
            " 0.10255258 0.09808182 0.09973026 0.10027973 0.09943054 0.10402618\n",
            " 0.10300215 0.10327689 0.10097907 0.10085419 0.09963035 0.10027973\n",
            " 0.10784754 0.10837205 0.11341725 0.11109446 0.10152855 0.10237774\n",
            " 0.10609921 0.1098956  0.10967081 0.1065238  0.10447575 0.10712323\n",
            " 0.11841251 0.11519057 0.11688896 0.11973625 0.12135971 0.12732904\n",
            " 0.12338279 0.12078525 0.10804736 0.10949598 0.10592437 0.10819721\n",
            " 0.10759778 0.10077926 0.09298666 0.0942105  0.10229192 0.10067022\n",
            " 0.10020726 0.10054256 0.10132255 0.10229904 0.10332508 0.10432296\n",
            " 0.10525441 0.10610154 0.10685702 0.10751966 0.10809265 0.10858282\n",
            " 0.10899983 0.10935517 0.10966135 0.10993101 0.11017608 0.11040723\n",
            " 0.11063356 0.11086236 0.11109902 0.1113473  0.11160914 0.11188517\n",
            " 0.11217501 0.11247734 0.11279019 0.1131113  0.11343829 0.11376872\n",
            " 0.11410031 0.1144311  0.11475938 0.11508378]\n",
            "6 day output[[0.11540329]]\n",
            "7 day input[0.06990859 0.06918427 0.06843499 0.07260602 0.07647735 0.07805085\n",
            " 0.07882512 0.08554373 0.09068885 0.0970578  0.09373595 0.09840651\n",
            " 0.09688296 0.09973026 0.10849693 0.10682352 0.10160348 0.09176283\n",
            " 0.10100405 0.09913083 0.1026275  0.10702333 0.10809731 0.10255258\n",
            " 0.09808182 0.09973026 0.10027973 0.09943054 0.10402618 0.10300215\n",
            " 0.10327689 0.10097907 0.10085419 0.09963035 0.10027973 0.10784754\n",
            " 0.10837205 0.11341725 0.11109446 0.10152855 0.10237774 0.10609921\n",
            " 0.1098956  0.10967081 0.1065238  0.10447575 0.10712323 0.11841251\n",
            " 0.11519057 0.11688896 0.11973625 0.12135971 0.12732904 0.12338279\n",
            " 0.12078525 0.10804736 0.10949598 0.10592437 0.10819721 0.10759778\n",
            " 0.10077926 0.09298666 0.0942105  0.10229192 0.10067022 0.10020726\n",
            " 0.10054256 0.10132255 0.10229904 0.10332508 0.10432296 0.10525441\n",
            " 0.10610154 0.10685702 0.10751966 0.10809265 0.10858282 0.10899983\n",
            " 0.10935517 0.10966135 0.10993101 0.11017608 0.11040723 0.11063356\n",
            " 0.11086236 0.11109902 0.1113473  0.11160914 0.11188517 0.11217501\n",
            " 0.11247734 0.11279019 0.1131113  0.11343829 0.11376872 0.11410031\n",
            " 0.1144311  0.11475938 0.11508378 0.11540329]\n",
            "7 day output[[0.11571725]]\n",
            "8 day input[0.06918427 0.06843499 0.07260602 0.07647735 0.07805085 0.07882512\n",
            " 0.08554373 0.09068885 0.0970578  0.09373595 0.09840651 0.09688296\n",
            " 0.09973026 0.10849693 0.10682352 0.10160348 0.09176283 0.10100405\n",
            " 0.09913083 0.1026275  0.10702333 0.10809731 0.10255258 0.09808182\n",
            " 0.09973026 0.10027973 0.09943054 0.10402618 0.10300215 0.10327689\n",
            " 0.10097907 0.10085419 0.09963035 0.10027973 0.10784754 0.10837205\n",
            " 0.11341725 0.11109446 0.10152855 0.10237774 0.10609921 0.1098956\n",
            " 0.10967081 0.1065238  0.10447575 0.10712323 0.11841251 0.11519057\n",
            " 0.11688896 0.11973625 0.12135971 0.12732904 0.12338279 0.12078525\n",
            " 0.10804736 0.10949598 0.10592437 0.10819721 0.10759778 0.10077926\n",
            " 0.09298666 0.0942105  0.10229192 0.10067022 0.10020726 0.10054256\n",
            " 0.10132255 0.10229904 0.10332508 0.10432296 0.10525441 0.10610154\n",
            " 0.10685702 0.10751966 0.10809265 0.10858282 0.10899983 0.10935517\n",
            " 0.10966135 0.10993101 0.11017608 0.11040723 0.11063356 0.11086236\n",
            " 0.11109902 0.1113473  0.11160914 0.11188517 0.11217501 0.11247734\n",
            " 0.11279019 0.1131113  0.11343829 0.11376872 0.11410031 0.1144311\n",
            " 0.11475938 0.11508378 0.11540329 0.11571725]\n",
            "8 day output[[0.11602525]]\n",
            "9 day input[0.06843499 0.07260602 0.07647735 0.07805085 0.07882512 0.08554373\n",
            " 0.09068885 0.0970578  0.09373595 0.09840651 0.09688296 0.09973026\n",
            " 0.10849693 0.10682352 0.10160348 0.09176283 0.10100405 0.09913083\n",
            " 0.1026275  0.10702333 0.10809731 0.10255258 0.09808182 0.09973026\n",
            " 0.10027973 0.09943054 0.10402618 0.10300215 0.10327689 0.10097907\n",
            " 0.10085419 0.09963035 0.10027973 0.10784754 0.10837205 0.11341725\n",
            " 0.11109446 0.10152855 0.10237774 0.10609921 0.1098956  0.10967081\n",
            " 0.1065238  0.10447575 0.10712323 0.11841251 0.11519057 0.11688896\n",
            " 0.11973625 0.12135971 0.12732904 0.12338279 0.12078525 0.10804736\n",
            " 0.10949598 0.10592437 0.10819721 0.10759778 0.10077926 0.09298666\n",
            " 0.0942105  0.10229192 0.10067022 0.10020726 0.10054256 0.10132255\n",
            " 0.10229904 0.10332508 0.10432296 0.10525441 0.10610154 0.10685702\n",
            " 0.10751966 0.10809265 0.10858282 0.10899983 0.10935517 0.10966135\n",
            " 0.10993101 0.11017608 0.11040723 0.11063356 0.11086236 0.11109902\n",
            " 0.1113473  0.11160914 0.11188517 0.11217501 0.11247734 0.11279019\n",
            " 0.1131113  0.11343829 0.11376872 0.11410031 0.1144311  0.11475938\n",
            " 0.11508378 0.11540329 0.11571725 0.11602525]\n",
            "9 day output[[0.11632712]]\n",
            "10 day input[0.07260602 0.07647735 0.07805085 0.07882512 0.08554373 0.09068885\n",
            " 0.0970578  0.09373595 0.09840651 0.09688296 0.09973026 0.10849693\n",
            " 0.10682352 0.10160348 0.09176283 0.10100405 0.09913083 0.1026275\n",
            " 0.10702333 0.10809731 0.10255258 0.09808182 0.09973026 0.10027973\n",
            " 0.09943054 0.10402618 0.10300215 0.10327689 0.10097907 0.10085419\n",
            " 0.09963035 0.10027973 0.10784754 0.10837205 0.11341725 0.11109446\n",
            " 0.10152855 0.10237774 0.10609921 0.1098956  0.10967081 0.1065238\n",
            " 0.10447575 0.10712323 0.11841251 0.11519057 0.11688896 0.11973625\n",
            " 0.12135971 0.12732904 0.12338279 0.12078525 0.10804736 0.10949598\n",
            " 0.10592437 0.10819721 0.10759778 0.10077926 0.09298666 0.0942105\n",
            " 0.10229192 0.10067022 0.10020726 0.10054256 0.10132255 0.10229904\n",
            " 0.10332508 0.10432296 0.10525441 0.10610154 0.10685702 0.10751966\n",
            " 0.10809265 0.10858282 0.10899983 0.10935517 0.10966135 0.10993101\n",
            " 0.11017608 0.11040723 0.11063356 0.11086236 0.11109902 0.1113473\n",
            " 0.11160914 0.11188517 0.11217501 0.11247734 0.11279019 0.1131113\n",
            " 0.11343829 0.11376872 0.11410031 0.1144311  0.11475938 0.11508378\n",
            " 0.11540329 0.11571725 0.11602525 0.11632712]\n",
            "10 day output[[0.11662295]]\n",
            "11 day input[0.07647735 0.07805085 0.07882512 0.08554373 0.09068885 0.0970578\n",
            " 0.09373595 0.09840651 0.09688296 0.09973026 0.10849693 0.10682352\n",
            " 0.10160348 0.09176283 0.10100405 0.09913083 0.1026275  0.10702333\n",
            " 0.10809731 0.10255258 0.09808182 0.09973026 0.10027973 0.09943054\n",
            " 0.10402618 0.10300215 0.10327689 0.10097907 0.10085419 0.09963035\n",
            " 0.10027973 0.10784754 0.10837205 0.11341725 0.11109446 0.10152855\n",
            " 0.10237774 0.10609921 0.1098956  0.10967081 0.1065238  0.10447575\n",
            " 0.10712323 0.11841251 0.11519057 0.11688896 0.11973625 0.12135971\n",
            " 0.12732904 0.12338279 0.12078525 0.10804736 0.10949598 0.10592437\n",
            " 0.10819721 0.10759778 0.10077926 0.09298666 0.0942105  0.10229192\n",
            " 0.10067022 0.10020726 0.10054256 0.10132255 0.10229904 0.10332508\n",
            " 0.10432296 0.10525441 0.10610154 0.10685702 0.10751966 0.10809265\n",
            " 0.10858282 0.10899983 0.10935517 0.10966135 0.10993101 0.11017608\n",
            " 0.11040723 0.11063356 0.11086236 0.11109902 0.1113473  0.11160914\n",
            " 0.11188517 0.11217501 0.11247734 0.11279019 0.1131113  0.11343829\n",
            " 0.11376872 0.11410031 0.1144311  0.11475938 0.11508378 0.11540329\n",
            " 0.11571725 0.11602525 0.11632712 0.11662295]\n",
            "11 day output[[0.11691298]]\n",
            "12 day input[0.07805085 0.07882512 0.08554373 0.09068885 0.0970578  0.09373595\n",
            " 0.09840651 0.09688296 0.09973026 0.10849693 0.10682352 0.10160348\n",
            " 0.09176283 0.10100405 0.09913083 0.1026275  0.10702333 0.10809731\n",
            " 0.10255258 0.09808182 0.09973026 0.10027973 0.09943054 0.10402618\n",
            " 0.10300215 0.10327689 0.10097907 0.10085419 0.09963035 0.10027973\n",
            " 0.10784754 0.10837205 0.11341725 0.11109446 0.10152855 0.10237774\n",
            " 0.10609921 0.1098956  0.10967081 0.1065238  0.10447575 0.10712323\n",
            " 0.11841251 0.11519057 0.11688896 0.11973625 0.12135971 0.12732904\n",
            " 0.12338279 0.12078525 0.10804736 0.10949598 0.10592437 0.10819721\n",
            " 0.10759778 0.10077926 0.09298666 0.0942105  0.10229192 0.10067022\n",
            " 0.10020726 0.10054256 0.10132255 0.10229904 0.10332508 0.10432296\n",
            " 0.10525441 0.10610154 0.10685702 0.10751966 0.10809265 0.10858282\n",
            " 0.10899983 0.10935517 0.10966135 0.10993101 0.11017608 0.11040723\n",
            " 0.11063356 0.11086236 0.11109902 0.1113473  0.11160914 0.11188517\n",
            " 0.11217501 0.11247734 0.11279019 0.1131113  0.11343829 0.11376872\n",
            " 0.11410031 0.1144311  0.11475938 0.11508378 0.11540329 0.11571725\n",
            " 0.11602525 0.11632712 0.11662295 0.11691298]\n",
            "12 day output[[0.11719755]]\n",
            "13 day input[0.07882512 0.08554373 0.09068885 0.0970578  0.09373595 0.09840651\n",
            " 0.09688296 0.09973026 0.10849693 0.10682352 0.10160348 0.09176283\n",
            " 0.10100405 0.09913083 0.1026275  0.10702333 0.10809731 0.10255258\n",
            " 0.09808182 0.09973026 0.10027973 0.09943054 0.10402618 0.10300215\n",
            " 0.10327689 0.10097907 0.10085419 0.09963035 0.10027973 0.10784754\n",
            " 0.10837205 0.11341725 0.11109446 0.10152855 0.10237774 0.10609921\n",
            " 0.1098956  0.10967081 0.1065238  0.10447575 0.10712323 0.11841251\n",
            " 0.11519057 0.11688896 0.11973625 0.12135971 0.12732904 0.12338279\n",
            " 0.12078525 0.10804736 0.10949598 0.10592437 0.10819721 0.10759778\n",
            " 0.10077926 0.09298666 0.0942105  0.10229192 0.10067022 0.10020726\n",
            " 0.10054256 0.10132255 0.10229904 0.10332508 0.10432296 0.10525441\n",
            " 0.10610154 0.10685702 0.10751966 0.10809265 0.10858282 0.10899983\n",
            " 0.10935517 0.10966135 0.10993101 0.11017608 0.11040723 0.11063356\n",
            " 0.11086236 0.11109902 0.1113473  0.11160914 0.11188517 0.11217501\n",
            " 0.11247734 0.11279019 0.1131113  0.11343829 0.11376872 0.11410031\n",
            " 0.1144311  0.11475938 0.11508378 0.11540329 0.11571725 0.11602525\n",
            " 0.11632712 0.11662295 0.11691298 0.11719755]\n",
            "13 day output[[0.11747696]]\n",
            "14 day input[0.08554373 0.09068885 0.0970578  0.09373595 0.09840651 0.09688296\n",
            " 0.09973026 0.10849693 0.10682352 0.10160348 0.09176283 0.10100405\n",
            " 0.09913083 0.1026275  0.10702333 0.10809731 0.10255258 0.09808182\n",
            " 0.09973026 0.10027973 0.09943054 0.10402618 0.10300215 0.10327689\n",
            " 0.10097907 0.10085419 0.09963035 0.10027973 0.10784754 0.10837205\n",
            " 0.11341725 0.11109446 0.10152855 0.10237774 0.10609921 0.1098956\n",
            " 0.10967081 0.1065238  0.10447575 0.10712323 0.11841251 0.11519057\n",
            " 0.11688896 0.11973625 0.12135971 0.12732904 0.12338279 0.12078525\n",
            " 0.10804736 0.10949598 0.10592437 0.10819721 0.10759778 0.10077926\n",
            " 0.09298666 0.0942105  0.10229192 0.10067022 0.10020726 0.10054256\n",
            " 0.10132255 0.10229904 0.10332508 0.10432296 0.10525441 0.10610154\n",
            " 0.10685702 0.10751966 0.10809265 0.10858282 0.10899983 0.10935517\n",
            " 0.10966135 0.10993101 0.11017608 0.11040723 0.11063356 0.11086236\n",
            " 0.11109902 0.1113473  0.11160914 0.11188517 0.11217501 0.11247734\n",
            " 0.11279019 0.1131113  0.11343829 0.11376872 0.11410031 0.1144311\n",
            " 0.11475938 0.11508378 0.11540329 0.11571725 0.11602525 0.11632712\n",
            " 0.11662295 0.11691298 0.11719755 0.11747696]\n",
            "14 day output[[0.11775173]]\n",
            "15 day input[0.09068885 0.0970578  0.09373595 0.09840651 0.09688296 0.09973026\n",
            " 0.10849693 0.10682352 0.10160348 0.09176283 0.10100405 0.09913083\n",
            " 0.1026275  0.10702333 0.10809731 0.10255258 0.09808182 0.09973026\n",
            " 0.10027973 0.09943054 0.10402618 0.10300215 0.10327689 0.10097907\n",
            " 0.10085419 0.09963035 0.10027973 0.10784754 0.10837205 0.11341725\n",
            " 0.11109446 0.10152855 0.10237774 0.10609921 0.1098956  0.10967081\n",
            " 0.1065238  0.10447575 0.10712323 0.11841251 0.11519057 0.11688896\n",
            " 0.11973625 0.12135971 0.12732904 0.12338279 0.12078525 0.10804736\n",
            " 0.10949598 0.10592437 0.10819721 0.10759778 0.10077926 0.09298666\n",
            " 0.0942105  0.10229192 0.10067022 0.10020726 0.10054256 0.10132255\n",
            " 0.10229904 0.10332508 0.10432296 0.10525441 0.10610154 0.10685702\n",
            " 0.10751966 0.10809265 0.10858282 0.10899983 0.10935517 0.10966135\n",
            " 0.10993101 0.11017608 0.11040723 0.11063356 0.11086236 0.11109902\n",
            " 0.1113473  0.11160914 0.11188517 0.11217501 0.11247734 0.11279019\n",
            " 0.1131113  0.11343829 0.11376872 0.11410031 0.1144311  0.11475938\n",
            " 0.11508378 0.11540329 0.11571725 0.11602525 0.11632712 0.11662295\n",
            " 0.11691298 0.11719755 0.11747696 0.11775173]\n",
            "15 day output[[0.11802231]]\n",
            "16 day input[0.0970578  0.09373595 0.09840651 0.09688296 0.09973026 0.10849693\n",
            " 0.10682352 0.10160348 0.09176283 0.10100405 0.09913083 0.1026275\n",
            " 0.10702333 0.10809731 0.10255258 0.09808182 0.09973026 0.10027973\n",
            " 0.09943054 0.10402618 0.10300215 0.10327689 0.10097907 0.10085419\n",
            " 0.09963035 0.10027973 0.10784754 0.10837205 0.11341725 0.11109446\n",
            " 0.10152855 0.10237774 0.10609921 0.1098956  0.10967081 0.1065238\n",
            " 0.10447575 0.10712323 0.11841251 0.11519057 0.11688896 0.11973625\n",
            " 0.12135971 0.12732904 0.12338279 0.12078525 0.10804736 0.10949598\n",
            " 0.10592437 0.10819721 0.10759778 0.10077926 0.09298666 0.0942105\n",
            " 0.10229192 0.10067022 0.10020726 0.10054256 0.10132255 0.10229904\n",
            " 0.10332508 0.10432296 0.10525441 0.10610154 0.10685702 0.10751966\n",
            " 0.10809265 0.10858282 0.10899983 0.10935517 0.10966135 0.10993101\n",
            " 0.11017608 0.11040723 0.11063356 0.11086236 0.11109902 0.1113473\n",
            " 0.11160914 0.11188517 0.11217501 0.11247734 0.11279019 0.1131113\n",
            " 0.11343829 0.11376872 0.11410031 0.1144311  0.11475938 0.11508378\n",
            " 0.11540329 0.11571725 0.11602525 0.11632712 0.11662295 0.11691298\n",
            " 0.11719755 0.11747696 0.11775173 0.11802231]\n",
            "16 day output[[0.11828902]]\n",
            "17 day input[0.09373595 0.09840651 0.09688296 0.09973026 0.10849693 0.10682352\n",
            " 0.10160348 0.09176283 0.10100405 0.09913083 0.1026275  0.10702333\n",
            " 0.10809731 0.10255258 0.09808182 0.09973026 0.10027973 0.09943054\n",
            " 0.10402618 0.10300215 0.10327689 0.10097907 0.10085419 0.09963035\n",
            " 0.10027973 0.10784754 0.10837205 0.11341725 0.11109446 0.10152855\n",
            " 0.10237774 0.10609921 0.1098956  0.10967081 0.1065238  0.10447575\n",
            " 0.10712323 0.11841251 0.11519057 0.11688896 0.11973625 0.12135971\n",
            " 0.12732904 0.12338279 0.12078525 0.10804736 0.10949598 0.10592437\n",
            " 0.10819721 0.10759778 0.10077926 0.09298666 0.0942105  0.10229192\n",
            " 0.10067022 0.10020726 0.10054256 0.10132255 0.10229904 0.10332508\n",
            " 0.10432296 0.10525441 0.10610154 0.10685702 0.10751966 0.10809265\n",
            " 0.10858282 0.10899983 0.10935517 0.10966135 0.10993101 0.11017608\n",
            " 0.11040723 0.11063356 0.11086236 0.11109902 0.1113473  0.11160914\n",
            " 0.11188517 0.11217501 0.11247734 0.11279019 0.1131113  0.11343829\n",
            " 0.11376872 0.11410031 0.1144311  0.11475938 0.11508378 0.11540329\n",
            " 0.11571725 0.11602525 0.11632712 0.11662295 0.11691298 0.11719755\n",
            " 0.11747696 0.11775173 0.11802231 0.11828902]\n",
            "17 day output[[0.11855219]]\n",
            "18 day input[0.09840651 0.09688296 0.09973026 0.10849693 0.10682352 0.10160348\n",
            " 0.09176283 0.10100405 0.09913083 0.1026275  0.10702333 0.10809731\n",
            " 0.10255258 0.09808182 0.09973026 0.10027973 0.09943054 0.10402618\n",
            " 0.10300215 0.10327689 0.10097907 0.10085419 0.09963035 0.10027973\n",
            " 0.10784754 0.10837205 0.11341725 0.11109446 0.10152855 0.10237774\n",
            " 0.10609921 0.1098956  0.10967081 0.1065238  0.10447575 0.10712323\n",
            " 0.11841251 0.11519057 0.11688896 0.11973625 0.12135971 0.12732904\n",
            " 0.12338279 0.12078525 0.10804736 0.10949598 0.10592437 0.10819721\n",
            " 0.10759778 0.10077926 0.09298666 0.0942105  0.10229192 0.10067022\n",
            " 0.10020726 0.10054256 0.10132255 0.10229904 0.10332508 0.10432296\n",
            " 0.10525441 0.10610154 0.10685702 0.10751966 0.10809265 0.10858282\n",
            " 0.10899983 0.10935517 0.10966135 0.10993101 0.11017608 0.11040723\n",
            " 0.11063356 0.11086236 0.11109902 0.1113473  0.11160914 0.11188517\n",
            " 0.11217501 0.11247734 0.11279019 0.1131113  0.11343829 0.11376872\n",
            " 0.11410031 0.1144311  0.11475938 0.11508378 0.11540329 0.11571725\n",
            " 0.11602525 0.11632712 0.11662295 0.11691298 0.11719755 0.11747696\n",
            " 0.11775173 0.11802231 0.11828902 0.11855219]\n",
            "18 day output[[0.11881225]]\n",
            "19 day input[0.09688296 0.09973026 0.10849693 0.10682352 0.10160348 0.09176283\n",
            " 0.10100405 0.09913083 0.1026275  0.10702333 0.10809731 0.10255258\n",
            " 0.09808182 0.09973026 0.10027973 0.09943054 0.10402618 0.10300215\n",
            " 0.10327689 0.10097907 0.10085419 0.09963035 0.10027973 0.10784754\n",
            " 0.10837205 0.11341725 0.11109446 0.10152855 0.10237774 0.10609921\n",
            " 0.1098956  0.10967081 0.1065238  0.10447575 0.10712323 0.11841251\n",
            " 0.11519057 0.11688896 0.11973625 0.12135971 0.12732904 0.12338279\n",
            " 0.12078525 0.10804736 0.10949598 0.10592437 0.10819721 0.10759778\n",
            " 0.10077926 0.09298666 0.0942105  0.10229192 0.10067022 0.10020726\n",
            " 0.10054256 0.10132255 0.10229904 0.10332508 0.10432296 0.10525441\n",
            " 0.10610154 0.10685702 0.10751966 0.10809265 0.10858282 0.10899983\n",
            " 0.10935517 0.10966135 0.10993101 0.11017608 0.11040723 0.11063356\n",
            " 0.11086236 0.11109902 0.1113473  0.11160914 0.11188517 0.11217501\n",
            " 0.11247734 0.11279019 0.1131113  0.11343829 0.11376872 0.11410031\n",
            " 0.1144311  0.11475938 0.11508378 0.11540329 0.11571725 0.11602525\n",
            " 0.11632712 0.11662295 0.11691298 0.11719755 0.11747696 0.11775173\n",
            " 0.11802231 0.11828902 0.11855219 0.11881225]\n",
            "19 day output[[0.11906932]]\n",
            "20 day input[0.09973026 0.10849693 0.10682352 0.10160348 0.09176283 0.10100405\n",
            " 0.09913083 0.1026275  0.10702333 0.10809731 0.10255258 0.09808182\n",
            " 0.09973026 0.10027973 0.09943054 0.10402618 0.10300215 0.10327689\n",
            " 0.10097907 0.10085419 0.09963035 0.10027973 0.10784754 0.10837205\n",
            " 0.11341725 0.11109446 0.10152855 0.10237774 0.10609921 0.1098956\n",
            " 0.10967081 0.1065238  0.10447575 0.10712323 0.11841251 0.11519057\n",
            " 0.11688896 0.11973625 0.12135971 0.12732904 0.12338279 0.12078525\n",
            " 0.10804736 0.10949598 0.10592437 0.10819721 0.10759778 0.10077926\n",
            " 0.09298666 0.0942105  0.10229192 0.10067022 0.10020726 0.10054256\n",
            " 0.10132255 0.10229904 0.10332508 0.10432296 0.10525441 0.10610154\n",
            " 0.10685702 0.10751966 0.10809265 0.10858282 0.10899983 0.10935517\n",
            " 0.10966135 0.10993101 0.11017608 0.11040723 0.11063356 0.11086236\n",
            " 0.11109902 0.1113473  0.11160914 0.11188517 0.11217501 0.11247734\n",
            " 0.11279019 0.1131113  0.11343829 0.11376872 0.11410031 0.1144311\n",
            " 0.11475938 0.11508378 0.11540329 0.11571725 0.11602525 0.11632712\n",
            " 0.11662295 0.11691298 0.11719755 0.11747696 0.11775173 0.11802231\n",
            " 0.11828902 0.11855219 0.11881225 0.11906932]\n",
            "20 day output[[0.11932367]]\n",
            "21 day input[0.10849693 0.10682352 0.10160348 0.09176283 0.10100405 0.09913083\n",
            " 0.1026275  0.10702333 0.10809731 0.10255258 0.09808182 0.09973026\n",
            " 0.10027973 0.09943054 0.10402618 0.10300215 0.10327689 0.10097907\n",
            " 0.10085419 0.09963035 0.10027973 0.10784754 0.10837205 0.11341725\n",
            " 0.11109446 0.10152855 0.10237774 0.10609921 0.1098956  0.10967081\n",
            " 0.1065238  0.10447575 0.10712323 0.11841251 0.11519057 0.11688896\n",
            " 0.11973625 0.12135971 0.12732904 0.12338279 0.12078525 0.10804736\n",
            " 0.10949598 0.10592437 0.10819721 0.10759778 0.10077926 0.09298666\n",
            " 0.0942105  0.10229192 0.10067022 0.10020726 0.10054256 0.10132255\n",
            " 0.10229904 0.10332508 0.10432296 0.10525441 0.10610154 0.10685702\n",
            " 0.10751966 0.10809265 0.10858282 0.10899983 0.10935517 0.10966135\n",
            " 0.10993101 0.11017608 0.11040723 0.11063356 0.11086236 0.11109902\n",
            " 0.1113473  0.11160914 0.11188517 0.11217501 0.11247734 0.11279019\n",
            " 0.1131113  0.11343829 0.11376872 0.11410031 0.1144311  0.11475938\n",
            " 0.11508378 0.11540329 0.11571725 0.11602525 0.11632712 0.11662295\n",
            " 0.11691298 0.11719755 0.11747696 0.11775173 0.11802231 0.11828902\n",
            " 0.11855219 0.11881225 0.11906932 0.11932367]\n",
            "21 day output[[0.11957533]]\n",
            "22 day input[0.10682352 0.10160348 0.09176283 0.10100405 0.09913083 0.1026275\n",
            " 0.10702333 0.10809731 0.10255258 0.09808182 0.09973026 0.10027973\n",
            " 0.09943054 0.10402618 0.10300215 0.10327689 0.10097907 0.10085419\n",
            " 0.09963035 0.10027973 0.10784754 0.10837205 0.11341725 0.11109446\n",
            " 0.10152855 0.10237774 0.10609921 0.1098956  0.10967081 0.1065238\n",
            " 0.10447575 0.10712323 0.11841251 0.11519057 0.11688896 0.11973625\n",
            " 0.12135971 0.12732904 0.12338279 0.12078525 0.10804736 0.10949598\n",
            " 0.10592437 0.10819721 0.10759778 0.10077926 0.09298666 0.0942105\n",
            " 0.10229192 0.10067022 0.10020726 0.10054256 0.10132255 0.10229904\n",
            " 0.10332508 0.10432296 0.10525441 0.10610154 0.10685702 0.10751966\n",
            " 0.10809265 0.10858282 0.10899983 0.10935517 0.10966135 0.10993101\n",
            " 0.11017608 0.11040723 0.11063356 0.11086236 0.11109902 0.1113473\n",
            " 0.11160914 0.11188517 0.11217501 0.11247734 0.11279019 0.1131113\n",
            " 0.11343829 0.11376872 0.11410031 0.1144311  0.11475938 0.11508378\n",
            " 0.11540329 0.11571725 0.11602525 0.11632712 0.11662295 0.11691298\n",
            " 0.11719755 0.11747696 0.11775173 0.11802231 0.11828902 0.11855219\n",
            " 0.11881225 0.11906932 0.11932367 0.11957533]\n",
            "22 day output[[0.11982443]]\n",
            "23 day input[0.10160348 0.09176283 0.10100405 0.09913083 0.1026275  0.10702333\n",
            " 0.10809731 0.10255258 0.09808182 0.09973026 0.10027973 0.09943054\n",
            " 0.10402618 0.10300215 0.10327689 0.10097907 0.10085419 0.09963035\n",
            " 0.10027973 0.10784754 0.10837205 0.11341725 0.11109446 0.10152855\n",
            " 0.10237774 0.10609921 0.1098956  0.10967081 0.1065238  0.10447575\n",
            " 0.10712323 0.11841251 0.11519057 0.11688896 0.11973625 0.12135971\n",
            " 0.12732904 0.12338279 0.12078525 0.10804736 0.10949598 0.10592437\n",
            " 0.10819721 0.10759778 0.10077926 0.09298666 0.0942105  0.10229192\n",
            " 0.10067022 0.10020726 0.10054256 0.10132255 0.10229904 0.10332508\n",
            " 0.10432296 0.10525441 0.10610154 0.10685702 0.10751966 0.10809265\n",
            " 0.10858282 0.10899983 0.10935517 0.10966135 0.10993101 0.11017608\n",
            " 0.11040723 0.11063356 0.11086236 0.11109902 0.1113473  0.11160914\n",
            " 0.11188517 0.11217501 0.11247734 0.11279019 0.1131113  0.11343829\n",
            " 0.11376872 0.11410031 0.1144311  0.11475938 0.11508378 0.11540329\n",
            " 0.11571725 0.11602525 0.11632712 0.11662295 0.11691298 0.11719755\n",
            " 0.11747696 0.11775173 0.11802231 0.11828902 0.11855219 0.11881225\n",
            " 0.11906932 0.11932367 0.11957533 0.11982443]\n",
            "23 day output[[0.12007105]]\n",
            "24 day input[0.09176283 0.10100405 0.09913083 0.1026275  0.10702333 0.10809731\n",
            " 0.10255258 0.09808182 0.09973026 0.10027973 0.09943054 0.10402618\n",
            " 0.10300215 0.10327689 0.10097907 0.10085419 0.09963035 0.10027973\n",
            " 0.10784754 0.10837205 0.11341725 0.11109446 0.10152855 0.10237774\n",
            " 0.10609921 0.1098956  0.10967081 0.1065238  0.10447575 0.10712323\n",
            " 0.11841251 0.11519057 0.11688896 0.11973625 0.12135971 0.12732904\n",
            " 0.12338279 0.12078525 0.10804736 0.10949598 0.10592437 0.10819721\n",
            " 0.10759778 0.10077926 0.09298666 0.0942105  0.10229192 0.10067022\n",
            " 0.10020726 0.10054256 0.10132255 0.10229904 0.10332508 0.10432296\n",
            " 0.10525441 0.10610154 0.10685702 0.10751966 0.10809265 0.10858282\n",
            " 0.10899983 0.10935517 0.10966135 0.10993101 0.11017608 0.11040723\n",
            " 0.11063356 0.11086236 0.11109902 0.1113473  0.11160914 0.11188517\n",
            " 0.11217501 0.11247734 0.11279019 0.1131113  0.11343829 0.11376872\n",
            " 0.11410031 0.1144311  0.11475938 0.11508378 0.11540329 0.11571725\n",
            " 0.11602525 0.11632712 0.11662295 0.11691298 0.11719755 0.11747696\n",
            " 0.11775173 0.11802231 0.11828902 0.11855219 0.11881225 0.11906932\n",
            " 0.11932367 0.11957533 0.11982443 0.12007105]\n",
            "24 day output[[0.12031508]]\n",
            "25 day input[0.10100405 0.09913083 0.1026275  0.10702333 0.10809731 0.10255258\n",
            " 0.09808182 0.09973026 0.10027973 0.09943054 0.10402618 0.10300215\n",
            " 0.10327689 0.10097907 0.10085419 0.09963035 0.10027973 0.10784754\n",
            " 0.10837205 0.11341725 0.11109446 0.10152855 0.10237774 0.10609921\n",
            " 0.1098956  0.10967081 0.1065238  0.10447575 0.10712323 0.11841251\n",
            " 0.11519057 0.11688896 0.11973625 0.12135971 0.12732904 0.12338279\n",
            " 0.12078525 0.10804736 0.10949598 0.10592437 0.10819721 0.10759778\n",
            " 0.10077926 0.09298666 0.0942105  0.10229192 0.10067022 0.10020726\n",
            " 0.10054256 0.10132255 0.10229904 0.10332508 0.10432296 0.10525441\n",
            " 0.10610154 0.10685702 0.10751966 0.10809265 0.10858282 0.10899983\n",
            " 0.10935517 0.10966135 0.10993101 0.11017608 0.11040723 0.11063356\n",
            " 0.11086236 0.11109902 0.1113473  0.11160914 0.11188517 0.11217501\n",
            " 0.11247734 0.11279019 0.1131113  0.11343829 0.11376872 0.11410031\n",
            " 0.1144311  0.11475938 0.11508378 0.11540329 0.11571725 0.11602525\n",
            " 0.11632712 0.11662295 0.11691298 0.11719755 0.11747696 0.11775173\n",
            " 0.11802231 0.11828902 0.11855219 0.11881225 0.11906932 0.11932367\n",
            " 0.11957533 0.11982443 0.12007105 0.12031508]\n",
            "25 day output[[0.12055654]]\n",
            "26 day input[0.09913083 0.1026275  0.10702333 0.10809731 0.10255258 0.09808182\n",
            " 0.09973026 0.10027973 0.09943054 0.10402618 0.10300215 0.10327689\n",
            " 0.10097907 0.10085419 0.09963035 0.10027973 0.10784754 0.10837205\n",
            " 0.11341725 0.11109446 0.10152855 0.10237774 0.10609921 0.1098956\n",
            " 0.10967081 0.1065238  0.10447575 0.10712323 0.11841251 0.11519057\n",
            " 0.11688896 0.11973625 0.12135971 0.12732904 0.12338279 0.12078525\n",
            " 0.10804736 0.10949598 0.10592437 0.10819721 0.10759778 0.10077926\n",
            " 0.09298666 0.0942105  0.10229192 0.10067022 0.10020726 0.10054256\n",
            " 0.10132255 0.10229904 0.10332508 0.10432296 0.10525441 0.10610154\n",
            " 0.10685702 0.10751966 0.10809265 0.10858282 0.10899983 0.10935517\n",
            " 0.10966135 0.10993101 0.11017608 0.11040723 0.11063356 0.11086236\n",
            " 0.11109902 0.1113473  0.11160914 0.11188517 0.11217501 0.11247734\n",
            " 0.11279019 0.1131113  0.11343829 0.11376872 0.11410031 0.1144311\n",
            " 0.11475938 0.11508378 0.11540329 0.11571725 0.11602525 0.11632712\n",
            " 0.11662295 0.11691298 0.11719755 0.11747696 0.11775173 0.11802231\n",
            " 0.11828902 0.11855219 0.11881225 0.11906932 0.11932367 0.11957533\n",
            " 0.11982443 0.12007105 0.12031508 0.12055654]\n",
            "26 day output[[0.12079535]]\n",
            "27 day input[0.1026275  0.10702333 0.10809731 0.10255258 0.09808182 0.09973026\n",
            " 0.10027973 0.09943054 0.10402618 0.10300215 0.10327689 0.10097907\n",
            " 0.10085419 0.09963035 0.10027973 0.10784754 0.10837205 0.11341725\n",
            " 0.11109446 0.10152855 0.10237774 0.10609921 0.1098956  0.10967081\n",
            " 0.1065238  0.10447575 0.10712323 0.11841251 0.11519057 0.11688896\n",
            " 0.11973625 0.12135971 0.12732904 0.12338279 0.12078525 0.10804736\n",
            " 0.10949598 0.10592437 0.10819721 0.10759778 0.10077926 0.09298666\n",
            " 0.0942105  0.10229192 0.10067022 0.10020726 0.10054256 0.10132255\n",
            " 0.10229904 0.10332508 0.10432296 0.10525441 0.10610154 0.10685702\n",
            " 0.10751966 0.10809265 0.10858282 0.10899983 0.10935517 0.10966135\n",
            " 0.10993101 0.11017608 0.11040723 0.11063356 0.11086236 0.11109902\n",
            " 0.1113473  0.11160914 0.11188517 0.11217501 0.11247734 0.11279019\n",
            " 0.1131113  0.11343829 0.11376872 0.11410031 0.1144311  0.11475938\n",
            " 0.11508378 0.11540329 0.11571725 0.11602525 0.11632712 0.11662295\n",
            " 0.11691298 0.11719755 0.11747696 0.11775173 0.11802231 0.11828902\n",
            " 0.11855219 0.11881225 0.11906932 0.11932367 0.11957533 0.11982443\n",
            " 0.12007105 0.12031508 0.12055654 0.12079535]\n",
            "27 day output[[0.12103153]]\n",
            "28 day input[0.10702333 0.10809731 0.10255258 0.09808182 0.09973026 0.10027973\n",
            " 0.09943054 0.10402618 0.10300215 0.10327689 0.10097907 0.10085419\n",
            " 0.09963035 0.10027973 0.10784754 0.10837205 0.11341725 0.11109446\n",
            " 0.10152855 0.10237774 0.10609921 0.1098956  0.10967081 0.1065238\n",
            " 0.10447575 0.10712323 0.11841251 0.11519057 0.11688896 0.11973625\n",
            " 0.12135971 0.12732904 0.12338279 0.12078525 0.10804736 0.10949598\n",
            " 0.10592437 0.10819721 0.10759778 0.10077926 0.09298666 0.0942105\n",
            " 0.10229192 0.10067022 0.10020726 0.10054256 0.10132255 0.10229904\n",
            " 0.10332508 0.10432296 0.10525441 0.10610154 0.10685702 0.10751966\n",
            " 0.10809265 0.10858282 0.10899983 0.10935517 0.10966135 0.10993101\n",
            " 0.11017608 0.11040723 0.11063356 0.11086236 0.11109902 0.1113473\n",
            " 0.11160914 0.11188517 0.11217501 0.11247734 0.11279019 0.1131113\n",
            " 0.11343829 0.11376872 0.11410031 0.1144311  0.11475938 0.11508378\n",
            " 0.11540329 0.11571725 0.11602525 0.11632712 0.11662295 0.11691298\n",
            " 0.11719755 0.11747696 0.11775173 0.11802231 0.11828902 0.11855219\n",
            " 0.11881225 0.11906932 0.11932367 0.11957533 0.11982443 0.12007105\n",
            " 0.12031508 0.12055654 0.12079535 0.12103153]\n",
            "28 day output[[0.12126491]]\n",
            "29 day input[0.10809731 0.10255258 0.09808182 0.09973026 0.10027973 0.09943054\n",
            " 0.10402618 0.10300215 0.10327689 0.10097907 0.10085419 0.09963035\n",
            " 0.10027973 0.10784754 0.10837205 0.11341725 0.11109446 0.10152855\n",
            " 0.10237774 0.10609921 0.1098956  0.10967081 0.1065238  0.10447575\n",
            " 0.10712323 0.11841251 0.11519057 0.11688896 0.11973625 0.12135971\n",
            " 0.12732904 0.12338279 0.12078525 0.10804736 0.10949598 0.10592437\n",
            " 0.10819721 0.10759778 0.10077926 0.09298666 0.0942105  0.10229192\n",
            " 0.10067022 0.10020726 0.10054256 0.10132255 0.10229904 0.10332508\n",
            " 0.10432296 0.10525441 0.10610154 0.10685702 0.10751966 0.10809265\n",
            " 0.10858282 0.10899983 0.10935517 0.10966135 0.10993101 0.11017608\n",
            " 0.11040723 0.11063356 0.11086236 0.11109902 0.1113473  0.11160914\n",
            " 0.11188517 0.11217501 0.11247734 0.11279019 0.1131113  0.11343829\n",
            " 0.11376872 0.11410031 0.1144311  0.11475938 0.11508378 0.11540329\n",
            " 0.11571725 0.11602525 0.11632712 0.11662295 0.11691298 0.11719755\n",
            " 0.11747696 0.11775173 0.11802231 0.11828902 0.11855219 0.11881225\n",
            " 0.11906932 0.11932367 0.11957533 0.11982443 0.12007105 0.12031508\n",
            " 0.12055654 0.12079535 0.12103153 0.12126491]\n",
            "29 day output[[0.12149552]]\n"
          ]
        }
      ]
    },
    {
      "cell_type": "code",
      "metadata": {
        "colab": {
          "base_uri": "https://localhost:8080/"
        },
        "id": "E6bgcOZQO05L",
        "outputId": "a1c0eeb1-a74d-4909-d0b0-b57cbf58c640"
      },
      "source": [
        "print(lst_output)"
      ],
      "execution_count": null,
      "outputs": [
        {
          "output_type": "stream",
          "name": "stdout",
          "text": [
            "[[0.11343829333782196], [0.11376871913671494], [0.11410031467676163], [0.11443109810352325], [0.11475937813520432], [0.11508377641439438], [0.11540329456329346], [0.11571724712848663], [0.11602525413036346], [0.11632712185382843], [0.11662295460700989], [0.11691297590732574], [0.11719755083322525], [0.11747695505619049], [0.11775173246860504], [0.11802230775356293], [0.11828901618719101], [0.11855218559503555], [0.11881224811077118], [0.11906932294368744], [0.11932367086410522], [0.11957532912492752], [0.11982443183660507], [0.12007104605436325], [0.1203150823712349], [0.12055654078722], [0.1207953542470932], [0.12103153020143509], [0.12126491218805313], [0.12149552255868912]]\n"
          ]
        }
      ]
    },
    {
      "cell_type": "code",
      "metadata": {
        "id": "rJE9ihPePK8p"
      },
      "source": [
        "day_new=np.arange(1,101)\n",
        "day_pred=np.arange(101,131)"
      ],
      "execution_count": null,
      "outputs": []
    },
    {
      "cell_type": "code",
      "metadata": {
        "colab": {
          "base_uri": "https://localhost:8080/"
        },
        "id": "KYVBgqBvPaeN",
        "outputId": "bd0dcea6-f072-43e4-95ed-8e57a6d30ab9"
      },
      "source": [
        "import matplotlib.pyplot as plt\n",
        "len(df1)"
      ],
      "execution_count": null,
      "outputs": [
        {
          "output_type": "execute_result",
          "data": {
            "text/plain": [
              "1257"
            ]
          },
          "metadata": {},
          "execution_count": 77
        }
      ]
    },
    {
      "cell_type": "code",
      "metadata": {
        "id": "EG48o6KvPhLQ"
      },
      "source": [
        "df3=df1.tolist()\n",
        "df3.extend(lst_output)"
      ],
      "execution_count": null,
      "outputs": []
    },
    {
      "cell_type": "code",
      "metadata": {
        "colab": {
          "base_uri": "https://localhost:8080/",
          "height": 284
        },
        "id": "43qsnhfHP8oH",
        "outputId": "e7b36448-c8c8-4fbf-82b0-f9a874344ac9"
      },
      "source": [
        "plt.plot(day_new,scaler.inverse_transform(df1[1157:]))\n",
        "plt.plot(day_pred,scaler.inverse_transform(lst_output))"
      ],
      "execution_count": null,
      "outputs": [
        {
          "output_type": "execute_result",
          "data": {
            "text/plain": [
              "[<matplotlib.lines.Line2D at 0x7f4f7788d250>]"
            ]
          },
          "metadata": {},
          "execution_count": 79
        },
        {
          "output_type": "display_data",
          "data": {
            "image/png": "[encoded data removed]",
            "text/plain": [
              "<Figure size 432x288 with 1 Axes>"
            ]
          },
          "metadata": {
            "needs_background": "light"
          }
        }
      ]
    },
    {
      "cell_type": "code",
      "metadata": {
        "colab": {
          "base_uri": "https://localhost:8080/",
          "height": 284
        },
        "id": "r4CW_J6TSOul",
        "outputId": "7ce9fb15-b351-41f6-822e-dca1e91e385f"
      },
      "source": [
        "df3=df1.tolist()\n",
        "df3.extend(lst_output)\n",
        "plt.plot(df3[1000:])"
      ],
      "execution_count": null,
      "outputs": [
        {
          "output_type": "execute_result",
          "data": {
            "text/plain": [
              "[<matplotlib.lines.Line2D at 0x7f4f778bcb50>]"
            ]
          },
          "metadata": {},
          "execution_count": 80
        },
        {
          "output_type": "display_data",
          "data": {
            "image/png": "[encoded data removed]",
            "text/plain": [
              "<Figure size 432x288 with 1 Axes>"
            ]
          },
          "metadata": {
            "needs_background": "light"
          }
        }
      ]
    }
  ]
}